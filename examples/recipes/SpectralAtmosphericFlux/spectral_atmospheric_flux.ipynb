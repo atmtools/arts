{
 "cells": [
  {
   "cell_type": "markdown",
   "id": "42082fbc",
   "metadata": {},
   "source": [
    "# Spectral atmospheric flux operator"
   ]
  },
  {
   "cell_type": "code",
   "execution_count": null,
   "id": "a3eae4ea-0aca-4502-9043-54e2ca6fcab9",
   "metadata": {},
   "outputs": [],
   "source": [
    "import pyarts\n",
    "import numpy as np\n",
    "import matplotlib.pyplot as plt\n",
    "from matplotlib import ticker"
   ]
  },
  {
   "cell_type": "markdown",
   "id": "952fa30f-9620-493b-9a69-7ea46d0ae9b7",
   "metadata": {},
   "source": [
    "## Initialize the operator\n",
    "\n",
    "See [SpectralAtmosphericFlux](pyarts.recipe.rst#pyarts.recipe.SpectralAtmosphericFlux)."
   ]
  },
  {
   "cell_type": "code",
   "execution_count": null,
   "id": "b1943594-5e27-4c9c-831c-c575bbc08c6c",
   "metadata": {},
   "outputs": [],
   "source": [
    "fop = pyarts.recipe.SpectralAtmosphericFlux(species=[\"H2O-161\", \"O2-66\", \"N2-44\", \"CO2-626\", \"O3-XFIT\"],\n",
    "                                            remove_lines_percentile={\"H2O\": 70})"
   ]
  },
  {
   "cell_type": "markdown",
   "id": "df821a5e-11df-4000-a66f-b19ce8a431d1",
   "metadata": {},
   "source": [
    "## Get the atmosphere (optional)\n",
    "The atmosphere is the full atmospheric field of ARTS as a dictionary,\n",
    "which is likely more than you wish to change.  You may change only part\n",
    "of the atmosphere by simply creating a dictionary that only contains the\n",
    "fields that you want to change."
   ]
  },
  {
   "cell_type": "code",
   "execution_count": null,
   "id": "79c18bda-7f10-42cb-87b0-ba636cef37f9",
   "metadata": {},
   "outputs": [],
   "source": [
    "atm = fop.get_atmosphere()"
   ]
  },
  {
   "cell_type": "markdown",
   "id": "da679d8d-8eef-4437-b299-7c85487df39a",
   "metadata": {},
   "source": [
    "## Get the profile flux for the given `atm`\n",
    "Passing `atm` is optional, if not passed the operator will use the current atmosphere,\n",
    "which is the atmosphere that was set with the last call to `__call__`, or the constructor\n",
    "default if no call to `__call__` has been made."
   ]
  },
  {
   "cell_type": "code",
   "execution_count": null,
   "id": "ebf13038-90c1-44dc-93ad-63d4d3da105b",
   "metadata": {},
   "outputs": [],
   "source": [
    "kays = np.linspace(400, 2500, 10001)\n",
    "flux, alts = fop(pyarts.arts.convert.kaycm2freq(kays), atm)"
   ]
  },
  {
   "cell_type": "markdown",
   "id": "25eafbd8",
   "metadata": {},
   "source": [
    "## Plots"
   ]
  },
  {
   "cell_type": "code",
   "execution_count": null,
   "id": "b998604b-98aa-4f46-bf78-288d65ffb78e",
   "metadata": {},
   "outputs": [],
   "source": [
    "plt.figure(1, figsize=(6, 4))\n",
    "plt.clf()\n",
    "plt.gca().set_rasterization_zorder(0)\n",
    "plt.contourf(kays, alts/1e3, flux.up.T, 50, locator=ticker.LogLocator(), zorder=-1)\n",
    "plt.xlabel(\"Kaysers [cm$^{-1}$]\")\n",
    "plt.ylabel(\"Altitude [km]\")\n",
    "cm = plt.colorbar()\n",
    "cm.set_label(\"Flux [W / m$^2$ Hz]\")\n",
    "plt.title(\"Upgoing spectral irradiance\")"
   ]
  },
  {
   "cell_type": "code",
   "execution_count": null,
   "id": "3adc9bfc-f6af-4c56-b53f-bcbd658307d8",
   "metadata": {},
   "outputs": [],
   "source": [
    "plt.figure(1, figsize=(6, 4))\n",
    "plt.clf()\n",
    "plt.gca().set_rasterization_zorder(0)\n",
    "plt.contourf(kays, alts/1e3, flux.down.T, 50, locator=ticker.LogLocator(), zorder=-1)\n",
    "plt.xlabel(\"Kaysers [cm$^{-1}$]\")\n",
    "plt.ylabel(\"Altitude [km]\")\n",
    "cm = plt.colorbar()\n",
    "cm.set_label(\"Flux [W / m$^2$ Hz]\")\n",
    "plt.title(\"Downgoing spectral irradiance\")"
   ]
  }
 ],
 "metadata": {
  "kernelspec": {
   "display_name": "Python 3",
   "language": "python",
   "name": "python3"
  },
  "language_info": {
   "codemirror_mode": {
    "name": "ipython",
    "version": 3
   },
   "file_extension": ".py",
   "mimetype": "text/x-python",
   "name": "python",
   "nbconvert_exporter": "python",
   "pygments_lexer": "ipython3",
   "version": "3.12.7"
  }
 },
 "nbformat": 4,
 "nbformat_minor": 5
}
