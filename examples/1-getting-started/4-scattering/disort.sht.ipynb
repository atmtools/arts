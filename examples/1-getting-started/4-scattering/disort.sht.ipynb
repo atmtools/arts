{
 "cells": [
  {
   "cell_type": "markdown",
   "id": "73a1804b-14fa-4a7e-9b1f-4a90a6274443",
   "metadata": {},
   "source": [
    "# Scattering calculations with DISORT\n",
    "\n",
    "This notebook demonstrates how to simulate brightness temperatures of cloudy skies using the DISORT scattering solver."
   ]
  },
  {
   "cell_type": "code",
   "execution_count": 1,
   "id": "743d89c4-343c-4779-9259-a2d0b8659d38",
   "metadata": {},
   "outputs": [],
   "source": [
    "import pyarts\n",
    "import numpy as np\n",
    "import matplotlib.pyplot as plt\n",
    "\n",
    "toa = 100e3\n",
    "lat = 0\n",
    "lon = 0\n",
    "NQuad = 40\n",
    "ws = pyarts.Workspace()"
   ]
  },
  {
   "cell_type": "code",
   "execution_count": 2,
   "id": "168646ee-02a7-4cf0-98c5-2c61297c32b9",
   "metadata": {},
   "outputs": [
    {
     "name": "stdout",
     "output_type": "stream",
     "text": [
      "env: OMP_NUM_THREADS=1\n"
     ]
    }
   ],
   "source": [
    "%env OMP_NUM_THREADS=1"
   ]
  },
  {
   "cell_type": "code",
   "execution_count": 3,
   "id": "e9c741e6-452c-4e75-b7db-757477fa50ae",
   "metadata": {},
   "outputs": [],
   "source": [
    "ws.frequency_grid = [31.5e9, 165e9, 666e9]\n",
    "\n",
    "# %% Species and line absorption\n",
    "ws.absorption_speciesSet(species=[\"N2-SelfContStandardType\", \"O2-PWR98\", \"H2O-PWR98\"])\n",
    "ws.ReadCatalogData()\n",
    "ws.propagation_matrix_agendaAuto()"
   ]
  },
  {
   "cell_type": "markdown",
   "id": "a760d94a-f31b-4bc6-88d0-d4dfa754ab66",
   "metadata": {},
   "source": [
    "## Defining scattering species\n",
    "\n",
    "### Loading scattering data\n",
    "\n",
    "We load scattering and scattering meta data from the ARTS .xml format. The scattering and scattering meta data arrays contain scattering data for rain particles (index 0) and ice particle (index 1)."
   ]
  },
  {
   "cell_type": "code",
   "execution_count": 4,
   "id": "97a9ac20-3ef6-483b-a894-3844a4f7d1cb",
   "metadata": {},
   "outputs": [],
   "source": [
    "from pyarts.arts import ParticleHabit\n",
    "from pyarts.xml import load\n",
    "scat_data_raw = load(\"testdata/scat_data.xml\")\n",
    "scat_data_meta = load(\"testdata/scat_meta.xml\" )\n",
    "\n",
    "t_grid = scat_data_raw[0][0].T_grid\n",
    "f_grid = scat_data_raw[0][0].f_grid"
   ]
  },
  {
   "cell_type": "markdown",
   "id": "113017a0-6be3-4631-9d7a-a081dd0c5654",
   "metadata": {},
   "source": [
    "Next we define a rain habit that holds the scattering data for liquid cloud and rain drops of different sizes.\n",
    "\n",
    "> **Note**: We transform the rain habit to the spectral TRO representation that is expected by DISORT already here."
   ]
  },
  {
   "cell_type": "code",
   "execution_count": 5,
   "id": "11ad4593-46a6-43e1-a844-db9d8328c7c7",
   "metadata": {},
   "outputs": [],
   "source": [
    "from pyarts.arts import ParticleHabit\n",
    "rain_habit = ParticleHabit.from_legacy_tro(scat_data_raw[0], scat_data_meta[0])\n",
    "rain_habit = rain_habit.to_tro_spectral(t_grid, f_grid, 39)"
   ]
  },
  {
   "cell_type": "markdown",
   "id": "66d11964-09dd-40fb-9c1b-c5f190f39b70",
   "metadata": {},
   "source": [
    "The particle habit, which holds the scattering data, needs to be combined with a PSD so that it can be used as a scattering species in ARTS. The PSD needs to be linked to an atmospheric field through a particule property. The particulate property represents the moments of the PSD that vary throughout the atmosphere.\n",
    "\n",
    "For the rain example considered here, we use a single moment corresponding to the mass density of the rain."
   ]
  },
  {
   "cell_type": "code",
   "execution_count": 6,
   "id": "97bea04b-c4e3-4fbf-b1eb-b30f3b8e47b7",
   "metadata": {},
   "outputs": [],
   "source": [
    "from pyarts.arts import MGDSingleMoment, ScatteringSpeciesProperty, ParticulateProperty, ScatteringHabit\n",
    "rain_first_moment = pyarts.arts.ScatteringSpeciesProperty(\"rain\", pyarts.arts.ParticulateProperty(\"MassDensity\"))\n",
    "psd = MGDSingleMoment(rain_first_moment, \"Wang16\", 270, 300, False)\n",
    "rain = ScatteringHabit(rain_habit, psd)"
   ]
  },
  {
   "cell_type": "code",
   "execution_count": 7,
   "id": "5da27745-ff49-4f34-ad14-81d2dfc47ecb",
   "metadata": {},
   "outputs": [],
   "source": [
    "ws.scattering_species = [rain]"
   ]
  },
  {
   "cell_type": "markdown",
   "id": "da2e588a-c73f-4ff1-b8a1-d4173c2f7e0a",
   "metadata": {},
   "source": [
    "### Demonstration\n",
    "\n",
    "The scattering habit can now be used to calculate the bulk properties of our rain scattering species for any point in the atmosphere."
   ]
  },
  {
   "cell_type": "code",
   "execution_count": 8,
   "id": "f8529ccb-81ff-4456-8aad-675d25a0658b",
   "metadata": {},
   "outputs": [],
   "source": [
    "from pyarts.arts import AtmPoint\n",
    "point = AtmPoint()\n",
    "point[\"t\"] = 280\n",
    "point[rain_first_moment] = 1e-4"
   ]
  },
  {
   "cell_type": "code",
   "execution_count": 9,
   "id": "3651cfe4-5b8b-4111-81c9-4f7240eac4af",
   "metadata": {},
   "outputs": [],
   "source": [
    "bulk_props = rain.get_bulk_scattering_properties_tro_spectral(point, f_grid, 1e-4)"
   ]
  },
  {
   "cell_type": "markdown",
   "id": "4b1f3861-380c-4e2d-906a-707de38e7cb3",
   "metadata": {},
   "source": [
    "## Grids and Planet"
   ]
  },
  {
   "cell_type": "code",
   "execution_count": 10,
   "id": "d780ca65-51da-454d-b714-0270398696dc",
   "metadata": {},
   "outputs": [],
   "source": [
    "from pyarts.xml import load\n",
    "\n",
    "p_grid = load(\"testdata/p_grid.xml\")\n",
    "t_field = load(\"testdata/t_field.xml\")\n",
    "z_field = load(\"testdata/z_field.xml\")\n",
    "vmr_field = load(\"testdata/vmr_field.xml\")\n",
    "pbf_field = load(\"testdata/particle_bulkprop_field.xml\")\n",
    "pbf_names = load(\"testdata/particle_bulkprop_names.xml\")\n",
    "ws.surface_fieldPlanet(option=\"Earth\")\n",
    "ws.surface_field[pyarts.arts.SurfaceKey(\"t\")] = t_field[0, 0, 0]"
   ]
  },
  {
   "cell_type": "code",
   "execution_count": 11,
   "id": "277cb9ca-6fe0-4956-937f-1d8bf884e76d",
   "metadata": {},
   "outputs": [],
   "source": [
    "from pyarts.arts import GriddedField3, Tensor3, Vector\n",
    "\n",
    "lat_grid = np.array([0.0])\n",
    "lon_grid = np.array([0.0])\n",
    "z_grid = z_field[..., 0, 0]\n",
    "\n",
    "pressure = GriddedField3(\"p\", p_grid[..., None, None], [\"alt\", \"lon\", \"lat\"], (z_grid, lon_grid, lat_grid))\n",
    "temperature = GriddedField3(\"t\", t_field, [\"alt\", \"lon\", \"lat\"], (z_grid, lon_grid, lat_grid))\n",
    "n2 = GriddedField3(\"N2\", vmr_field[0], [\"alt\", \"lon\", \"lat\"], (z_grid, lon_grid, lat_grid))\n",
    "o2 = GriddedField3(\"O2\", vmr_field[1], [\"alt\", \"lon\", \"lat\"], (z_grid, lon_grid, lat_grid))\n",
    "h2o = GriddedField3(\"H2O\", vmr_field[2], [\"alt\", \"lon\", \"lat\"], (z_grid, lon_grid, lat_grid))\n",
    "rwc = GriddedField3(\"RWC\", 1.0 * pbf_field[0], [\"alt\", \"lon\", \"lat\"], (z_grid, lon_grid, lat_grid))"
   ]
  },
  {
   "cell_type": "code",
   "execution_count": 12,
   "id": "642b0dab-8c01-4f2d-ab32-7a2f5987d9f7",
   "metadata": {},
   "outputs": [],
   "source": [
    "ws.atmospheric_field[\"p\"] = pressure\n",
    "ws.atmospheric_field[\"t\"] = temperature\n",
    "ws.atmospheric_field[\"N2\"] = n2\n",
    "ws.atmospheric_field[\"O2\"] = o2\n",
    "ws.atmospheric_field[\"H2O\"] = h2o\n",
    "ws.atmospheric_field[rain_first_moment] = rwc\n",
    "ws.atmospheric_field.top_of_atmosphere = 12.0e3"
   ]
  },
  {
   "cell_type": "code",
   "execution_count": 13,
   "id": "3a6c9d28-cbf7-4cd3-832e-4e1c75a6c6a1",
   "metadata": {},
   "outputs": [
    {
     "data": {
      "text/plain": [
       "[\"not-a-name\" (checked: false),\n",
       "[],\n",
       "  Shared: [],\n",
       "  Copied: []]"
      ]
     },
     "execution_count": 13,
     "metadata": {},
     "output_type": "execute_result"
    }
   ],
   "source": [
    "ws.propagation_matrix_scattering_spectral_agenda"
   ]
  },
  {
   "cell_type": "markdown",
   "id": "23931abd-fe63-4ecb-9a23-9b3eb2c86f46",
   "metadata": {},
   "source": [
    "## Checks and settings"
   ]
  },
  {
   "cell_type": "code",
   "execution_count": 14,
   "id": "05ec84b9-87f3-4ca5-b623-c41fbc8efe7e",
   "metadata": {},
   "outputs": [],
   "source": [
    "ws.spectral_radiance_unit = \"Tb\"\n",
    "ws.spectral_radiance_space_agendaSet(option=\"UniformCosmicBackground\")\n",
    "ws.spectral_radiance_surface_agendaSet(option=\"Blackbody\")\n",
    "\n",
    "ws.disort_settings_agendaSetup(scattering_setting=\"ScatteringSpecies\")\n",
    "ws.disort_quadrature_dimension = 40\n",
    "ws.disort_fourier_mode_dimension = 1\n",
    "ws.propagation_matrix_scattering_spectral_agendaSet()\n",
    "ws.disort_legendre_polynomial_dimension = 40\n",
    "ws.spectral_radiance_unit = \"Tb\"\n",
    "ws.spectral_radiance_space_agendaSet(option=\"UniformCosmicBackground\")\n",
    "ws.spectral_radiance_surface_agendaSet(option=\"Blackbody\")\n"
   ]
  },
  {
   "cell_type": "code",
   "execution_count": 15,
   "id": "88963837-70fb-49cf-a825-ac8279a6e8be",
   "metadata": {},
   "outputs": [],
   "source": [
    "def calculate_tbs_disort():\n",
    "    ws.disort_settings_agendaSetup(scattering_setting=\"ScatteringSpecies\")\n",
    "    ws.disort_spectral_radiance_fieldProfile(\n",
    "        longitude=lon,\n",
    "        latitude=lat,\n",
    "        disort_quadrature_dimension=NQuad,\n",
    "        disort_legendre_polynomial_dimension=40,\n",
    "        disort_fourier_mode_dimension=1,\n",
    "        max_step=100\n",
    "    )\n",
    "    disort_stokes = [[ws.disort_spectral_radiance_field[f_ind, 0, 0, 19], 0.0, 0.0, 0.0] for f_ind in range(3)]\n",
    "    ws.spectral_radiance = disort_stokes\n",
    "    ws.spectral_radianceApplyUnit(ray_path_point=ws.ray_path[0])\n",
    "    return ws.spectral_radiance.value.copy()[:, 0]\n",
    "    "
   ]
  },
  {
   "cell_type": "code",
   "execution_count": 16,
   "id": "06c51b4b-d3a5-4063-b3d2-9ff531acef94",
   "metadata": {
    "scrolled": true
   },
   "outputs": [],
   "source": [
    "tbs_cloudy = calculate_tbs_disort()"
   ]
  },
  {
   "cell_type": "markdown",
   "id": "f64366b9-28b3-460b-9368-80df5ce6b521",
   "metadata": {},
   "source": [
    "## Cloudy-sky brightness temperatures\n",
    "\n",
    "The cloudy-sky brightness temperature are obviously off. I checked the single-scattering albedo and extinction matrix between ARTS 2.6 and the new implementation and they agree. Currently, I am assuming there is an issue in DISORT."
   ]
  },
  {
   "cell_type": "markdown",
   "id": "43e125d9-2a83-4ae2-b797-1c68273f0eb2",
   "metadata": {},
   "source": [
    "ARTS 2.6 results: ``271.694859567588, 272.601957925916, 251.643215266136``"
   ]
  },
  {
   "cell_type": "code",
   "execution_count": 17,
   "id": "8ab54ed6-f00b-4537-b49a-76cf29e31017",
   "metadata": {},
   "outputs": [
    {
     "data": {
      "text/plain": [
       "array([347.00334621, 533.43936442, 252.00911657])"
      ]
     },
     "execution_count": 17,
     "metadata": {},
     "output_type": "execute_result"
    }
   ],
   "source": [
    "tbs_cloudy"
   ]
  },
  {
   "cell_type": "markdown",
   "id": "04261095-f1d9-465a-a769-5a08ea45414f",
   "metadata": {},
   "source": [
    "## Clear-sky brightness temperatures\n",
    "\n",
    "The clearsky brightness temperatures, however, agree well with the ARTS 2.6 results."
   ]
  },
  {
   "cell_type": "markdown",
   "id": "ab48403d-3fd5-4259-ba16-77ea9edfabaf",
   "metadata": {},
   "source": [
    "ARTS 2.6 results: ``298.566120236439 283.35611518369 251.643322551348``"
   ]
  },
  {
   "cell_type": "code",
   "execution_count": 20,
   "id": "b3ae98af-970a-40bd-a37d-a292f8fb957c",
   "metadata": {},
   "outputs": [
    {
     "data": {
      "text/plain": [
       "array([298.56379172, 282.93590396, 251.73445116])"
      ]
     },
     "execution_count": 20,
     "metadata": {},
     "output_type": "execute_result"
    }
   ],
   "source": [
    "ws.atmospheric_field[rain_first_moment] = 0.0\n",
    "tbs_clear = calculate_tbs_disort()\n",
    "tbs_clear"
   ]
  }
 ],
 "metadata": {
  "kernelspec": {
   "display_name": "Python 3 (ipykernel)",
   "language": "python",
   "name": "python3"
  },
  "language_info": {
   "codemirror_mode": {
    "name": "ipython",
    "version": 3
   },
   "file_extension": ".py",
   "mimetype": "text/x-python",
   "name": "python",
   "nbconvert_exporter": "python",
   "pygments_lexer": "ipython3",
   "version": "3.13.1"
  }
 },
 "nbformat": 4,
 "nbformat_minor": 5
}
