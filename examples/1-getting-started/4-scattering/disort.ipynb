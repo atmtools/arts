{
 "cells": [
  {
   "cell_type": "code",
   "execution_count": null,
   "id": "743d89c4-343c-4779-9259-a2d0b8659d38",
   "metadata": {},
   "outputs": [],
   "source": [
    "import pyarts\n",
    "import numpy as np\n",
    "import matplotlib.pyplot as plt\n",
    "\n",
    "toa = 100e3\n",
    "lat = 0\n",
    "lon = 0\n",
    "NQuad = 40\n",
    "\n",
    "ws = pyarts.Workspace()"
   ]
  },
  {
   "cell_type": "code",
   "execution_count": null,
   "id": "e9c741e6-452c-4e75-b7db-757477fa50ae",
   "metadata": {},
   "outputs": [],
   "source": [
    "# %% Sampled frequency range\n",
    "\n",
    "ws.frequency_grid = [31.5e9, 165e9, 666e9]\n",
    "\n",
    "# %% Species and line absorption\n",
    "\n",
    "ws.absorption_speciesSet(species=[\"N2-SelfContStandardType\", \"O2-PWR98\", \"H2O-PWR98\"])\n",
    "ws.ReadCatalogData()\n",
    "ws.propagation_matrix_agendaAuto()"
   ]
  },
  {
   "cell_type": "markdown",
   "id": "a760d94a-f31b-4bc6-88d0-d4dfa754ab66",
   "metadata": {},
   "source": [
    "## Setting ``propagation_matrix_scattering_spectral_agenda``"
   ]
  },
  {
   "cell_type": "code",
   "execution_count": null,
   "id": "a09f6d92-ec63-477b-80be-e8865b275e7c",
   "metadata": {},
   "outputs": [],
   "source": [
    "ws.legendre_degree = 40\n",
    "ws.propagation_matrix_scattering_spectral_agendaSet()"
   ]
  },
  {
   "cell_type": "code",
   "execution_count": null,
   "id": "a705140e-cc32-4e6c-b68b-ee13bfaf36ff",
   "metadata": {},
   "outputs": [],
   "source": [
    "ws.propagation_matrix_scatteringSpectralInit()"
   ]
  },
  {
   "cell_type": "code",
   "execution_count": null,
   "id": "ae024878-0561-490f-adde-f690630c8ecd",
   "metadata": {},
   "outputs": [],
   "source": [
    "ws.phase_matrix_scattering_spectral.shape"
   ]
  },
  {
   "cell_type": "code",
   "execution_count": null,
   "id": "b59da698-604e-4ae4-8c36-caa3cae07ad7",
   "metadata": {},
   "outputs": [],
   "source": [
    "#from pyarts import arts_agenda\n",
    "#\n",
    "#@arts_agenda\n",
    "#def propagation_matrix_spectral(ws):\n",
    "#    ws.propagation_matrix_scatteringInit(legendre_degree=ws.legendre_degree)\n",
    "#    ws.propagation_matrix_scatteringAddSpectralScatteringSpeciesTRO()\n",
    "#    ws.Ignore(ws.legendre_degree)"
   ]
  },
  {
   "cell_type": "code",
   "execution_count": null,
   "id": "97a9ac20-3ef6-483b-a894-3844a4f7d1cb",
   "metadata": {},
   "outputs": [],
   "source": [
    "from pyarts.arts import ParticleHabit\n",
    "from pyarts.xml import load\n",
    "scat_data_raw = load(\"testdata/scat_data.xml\")\n",
    "scat_data_meta = load(\"testdata/scat_meta.xml\" )\n",
    "\n",
    "t_grid = scat_data_raw[0][0].T_grid\n",
    "f_grid = scat_data_raw[0][0].f_grid\n",
    "rain_habit = ParticleHabit.from_legacy_tro(scat_data_raw[0], scat_data_meta[0]).to_tro_spectral(t_grid, f_grid, 40)"
   ]
  },
  {
   "cell_type": "code",
   "execution_count": null,
   "id": "490244e0-2e5b-49eb-a8b9-a2969e034209",
   "metadata": {},
   "outputs": [],
   "source": [
    "from pyarts.arts import MGDSingleMoment, ScatteringSpeciesProperty, ParticulateProperty, AtmPoint\n",
    "rain_first_moment = pyarts.arts.ScatteringSpeciesProperty(\"rain\", pyarts.arts.ParticulateProperty(\"MassDensity\"))\n",
    "psd = MGDSingleMoment(rain_first_moment, \"Wang16\", 270, 300, False)"
   ]
  },
  {
   "cell_type": "code",
   "execution_count": null,
   "id": "97bea04b-c4e3-4fbf-b1eb-b30f3b8e47b7",
   "metadata": {},
   "outputs": [],
   "source": [
    "from pyarts.arts import ScatteringHabit\n",
    "rain = ScatteringHabit(rain_habit, psd)"
   ]
  },
  {
   "cell_type": "code",
   "execution_count": null,
   "id": "3651cfe4-5b8b-4111-81c9-4f7240eac4af",
   "metadata": {},
   "outputs": [],
   "source": [
    "ws.scattering_species = [rain]"
   ]
  },
  {
   "cell_type": "markdown",
   "id": "4b1f3861-380c-4e2d-906a-707de38e7cb3",
   "metadata": {},
   "source": [
    "## Grids and Planet"
   ]
  },
  {
   "cell_type": "code",
   "execution_count": null,
   "id": "d780ca65-51da-454d-b714-0270398696dc",
   "metadata": {},
   "outputs": [],
   "source": [
    "from pyarts.xml import load\n",
    "\n",
    "p_grid = load(\"testdata/p_grid.xml\")\n",
    "t_field = load(\"testdata/t_field.xml\")\n",
    "z_field = load(\"testdata/z_field.xml\")\n",
    "vmr_field = load(\"testdata/vmr_field.xml\")\n",
    "pbf_field = load(\"testdata/particle_bulkprop_field.xml\")\n",
    "pbf_names = load(\"testdata/particle_bulkprop_names.xml\")\n",
    "ws.surface_fieldPlanet(option=\"Earth\")\n",
    "ws.surface_field[pyarts.arts.SurfaceKey(\"t\")] = t_field[0, 0, 0]"
   ]
  },
  {
   "cell_type": "code",
   "execution_count": null,
   "id": "277cb9ca-6fe0-4956-937f-1d8bf884e76d",
   "metadata": {},
   "outputs": [],
   "source": [
    "from pyarts.arts import GriddedField3, Tensor3, Vector\n",
    "\n",
    "lat_grid = np.array([0.0])\n",
    "lon_grid = np.array([0.0])\n",
    "z_grid = z_field[..., 0, 0]\n",
    "\n",
    "pressure = GriddedField3(\"p\", p_grid[..., None, None], [\"alt\", \"lon\", \"lat\"], (z_grid, lon_grid, lat_grid))\n",
    "temperature = GriddedField3(\"t\", t_field, [\"alt\", \"lon\", \"lat\"], (z_grid, lon_grid, lat_grid))\n",
    "n2 = GriddedField3(\"N2\", vmr_field[0], [\"alt\", \"lon\", \"lat\"], (z_grid, lon_grid, lat_grid))\n",
    "o2 = GriddedField3(\"O2\", vmr_field[1], [\"alt\", \"lon\", \"lat\"], (z_grid, lon_grid, lat_grid))\n",
    "h2o = GriddedField3(\"H2O\", vmr_field[2], [\"alt\", \"lon\", \"lat\"], (z_grid, lon_grid, lat_grid))\n",
    "rwc = GriddedField3(\"RWC\", pbf_field[0], [\"alt\", \"lon\", \"lat\"], (z_grid, lon_grid, lat_grid))"
   ]
  },
  {
   "cell_type": "code",
   "execution_count": null,
   "id": "642b0dab-8c01-4f2d-ab32-7a2f5987d9f7",
   "metadata": {},
   "outputs": [],
   "source": [
    "ws.atmospheric_field[\"p\"] = pressure\n",
    "ws.atmospheric_field[\"t\"] = temperature\n",
    "ws.atmospheric_field[\"N2\"] = n2\n",
    "ws.atmospheric_field[\"O2\"] = o2\n",
    "ws.atmospheric_field[\"H2O\"] = h2o\n",
    "ws.atmospheric_field[rain_first_moment] = rwc\n",
    "ws.atmospheric_field.top_of_atmosphere = 12.0e3"
   ]
  },
  {
   "cell_type": "markdown",
   "id": "23931abd-fe63-4ecb-9a23-9b3eb2c86f46",
   "metadata": {},
   "source": [
    "## Checks and settings"
   ]
  },
  {
   "cell_type": "code",
   "execution_count": null,
   "id": "05ec84b9-87f3-4ca5-b623-c41fbc8efe7e",
   "metadata": {},
   "outputs": [],
   "source": [
    "ws.spectral_radiance_unit = \"Tb\"\n",
    "ws.spectral_radiance_space_agendaSet(option=\"UniformCosmicBackground\")\n",
    "ws.spectral_radiance_surface_agendaSet(option=\"Blackbody\")\n",
    "\n",
    "#  Core Disort calculations"
   ]
  },
  {
   "cell_type": "code",
   "execution_count": null,
   "id": "49cd9e86-f12c-470e-bb9c-add0e183ec57",
   "metadata": {},
   "outputs": [],
   "source": []
  },
  {
   "cell_type": "code",
   "execution_count": null,
   "id": "88963837-70fb-49cf-a825-ac8279a6e8be",
   "metadata": {},
   "outputs": [],
   "source": [
    "ws.spectral_radiance_unit = \"Tb\"\n",
    "ws.spectral_radiance_space_agendaSet(option=\"UniformCosmicBackground\")\n",
    "ws.spectral_radiance_surface_agendaSet(option=\"Blackbody\")\n",
    "\n",
    "# %% Core Disort calculations\n",
    "\n",
    "def calculate_tbs_disort():\n",
    "    ws.disort_settings_agendaSetup(scattering_setting=\"ScatteringSpecies\")\n",
    "    ws.disort_spectral_radiance_fieldProfile(\n",
    "        longitude=lon,\n",
    "        latitude=lat,\n",
    "        disort_quadrature_dimension=NQuad,\n",
    "        disort_legendre_polynomial_dimension=1,\n",
    "        disort_fourier_mode_dimension=1,\n",
    "    )\n",
    "    disort_stokes = [[ws.disort_spectral_radiance_field[f_ind, 0, 0, 19], 0.0, 0.0, 0.0] for f_ind in range(3)]\n",
    "    ws.spectral_radiance = disort_stokes\n",
    "    ws.spectral_radianceApplyUnit()\n",
    "    return ws.spectral_radiance.value\n",
    "    "
   ]
  },
  {
   "cell_type": "code",
   "execution_count": null,
   "id": "02a1b05a-85a4-4032-92a5-b4144713486e",
   "metadata": {},
   "outputs": [],
   "source": [
    "calculate_tbs_disort()"
   ]
  }
 ],
 "metadata": {
  "kernelspec": {
   "display_name": "Python 3 (ipykernel)",
   "language": "python",
   "name": "python3"
  },
  "language_info": {
   "codemirror_mode": {
    "name": "ipython",
    "version": 3
   },
   "file_extension": ".py",
   "mimetype": "text/x-python",
   "name": "python",
   "nbconvert_exporter": "python",
   "pygments_lexer": "ipython3",
   "version": "3.13.1"
  }
 },
 "nbformat": 4,
 "nbformat_minor": 5
}
